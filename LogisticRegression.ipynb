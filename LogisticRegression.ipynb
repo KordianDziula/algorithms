{
 "cells": [
  {
   "cell_type": "markdown",
   "metadata": {},
   "source": [
    "<center><h1><b>Regresja Logistyczna</b></h1></center>\n",
    "<hr />\n",
    "<br />\n",
    "\n",
    "<b>Iloraz szans - szansa wystąpienia danego zdarzenia - wzór: </b>\n",
    "<br/>\n",
    "$$OR = \\frac{p}{(1-p)}$$\n",
    "$$gdzie\\: p\\: -\\: prawdopodobienstwo\\: wystapienia\\: danego\\: zdarzenia$$\n",
    "<hr />\n",
    "<br />\n",
    "\n",
    "<b>Funkcja logitowa - logarytm ilorazu szans - wzór: </b>\n",
    "$$logit(p) = \\log{\\frac{p}{(p-1)}}$$\n",
    "<p>Funkcja logitowa przyjmuje wartości w zakresie od 0 do 1 i przekształca je w wartości z pełnego przedziału liczb rzeczywistych</p>\n",
    "<br />\n",
    "$$logit(P(y = 1 | x)) = w_0x_0 + w_1x_1 + ... + w_mx_m = \\sum_{i=1}^{m}w_ix_i = w^{t}x$$\n",
    "$$P(y = 1|x) \\:-\\: prawdopodobienstwo\\: warunkowe,\\: zgodnie\\: z\\: ktorym\\: dana\\: probka\\: nalezy\\: do\\: klasy\\: 1\\: przy\\: znanych\\: cechach\\: x$$\n",
    "$$w^{t}x\\: - \\: calkowite\\: pobudzenie\\: modelu$$\n",
    "<hr />\n",
    "<br />\n",
    "<b>Odwrotnością funkcji logitowej jest funkcja sigmoidalna</b>\n",
    "<br />\n",
    "$$\\Phi(z) = \\frac{1}{1 + e^{-z}}$$\n",
    "$$ z\\: - \\: pobudzenie,\\: czyli\\: liniowa\\: kombinacja\\: wag\\: z\\: cechami\\: przykladu\\:$$\n",
    "<br />\n",
    "<p>Wynik funkcji sigmoidalnej interpretowany jest jako prawdopodobieństwo przynależności danej próbki do klasy 1</p>\n",
    "<br />\n",
    "$$\\Phi(z) = P(y = 1|x;w)$$\n",
    "$$gdzie\\: x\\: to\\: cechy\\: tej\\: probki\\: przemnozone\\: przez\\: wartosci\\: wag$$\n",
    "<br />\n",
    "<p>Prognozowane prawdopodobieństwo może zostać przekształcone na binarny wynik przy pomocy funkcji progowej: </p>\n",
    "<br />\n",
    "$$\n",
    "\\hat{y} = \\left\\{ \\begin{array}{ll}\n",
    "1 & jesli\\: \\Phi (z) \\ge 0.5\\\\\n",
    "0 & jesli\\: \\Phi (z) < 0.5\\\\\n",
    "\\end{array} \\right.\n",
    "$$\n",
    "<br/>\n",
    "<p>Założenie to jest równoznaczne z:</p>\n",
    "<br/>\n",
    "$$\n",
    "\\hat{y} = \\left\\{ \\begin{array}{ll}\n",
    "1 & jesli\\: z \\ge 0\\\\\n",
    "0 & jesli\\: z < 0\\\\\n",
    "\\end{array} \\right.\n",
    "$$\n",
    "<br />\n",
    "<hr />\n",
    "<b>Funkcja wiarygodności regresji logistycznej</b>\n",
    "<br/>\n",
    "$$Korzystajac\\: z\\: niezaleznosci\\: zdarzen\\: P(A \\cap B) = P(A)P(B)$$\n",
    "$$L(w) = P(y|x;w) = \\prod_{i = 1}^{n}P(y^{(i)}|x^{(i)};w) = \\prod_{i = 1}^{n}(\\Phi(z^{(i)}))^{y^{(i)}}(1 - \\Phi(z^{(i)}))^{1 - y^{(i)}}$$\n",
    "<br/>\n",
    "<hr/>\n",
    "<b>Zlogarytmowana funkcja wiarygodności</b>\n",
    "<br/>\n",
    "$$l(w) = \\log L(w) = \\sum_{i=1}^{n}[y^{(i)}\\log(\\Phi(z^{(i)})) + (1 - y^{(i)})\\log(1 - \\Phi(z^{(i)}))]$$\n",
    "<br/>\n",
    "<p>Wprowadzenie funkcji logarytmicznej ułatwia wyprowadzenie pochodnej</p>\n",
    "<hr/>\n",
    "<br/>\n",
    "<b>Funkcja kosztu</b>\n",
    "$$l(w) = \\log L(w) = \\sum_{i=1}^{n}[- y^{(i)}\\log(\\Phi(z^{(i)})) - (1 - y^{(i)})\\log(1 - \\Phi(z^{(i)}))]$$\n",
    "<hr/>\n",
    "<br/>\n",
    "<b>Pochodna funkcji kosztu</b>\n",
    "<br />\n",
    "$$l'(w) = (y - \\Phi(z))x_{j}$$"
   ]
  },
  {
   "cell_type": "code",
   "execution_count": 1,
   "metadata": {},
   "outputs": [],
   "source": [
    "import numpy as np\n",
    "\n",
    "class LogisticRegression():\n",
    "    def __init__(self, eta = 0.01, epochs = 20, random_state = 1):\n",
    "        self.eta = eta,\n",
    "        self.epochs = epochs,\n",
    "        self.random_state = random_state\n",
    "        \n",
    "    def fit(self, X, y):\n",
    "        rand = np.random.RandomState(self.random_state)\n",
    "        self.w = rand.normal(0, 0.1, 1 + X.shape[1])\n",
    "        self.cost = []\n",
    "        \n",
    "        for _ in range(self.epochs[0]):\n",
    "            output = self.activation(X)\n",
    "            if any(output < 0):\n",
    "                print(output)\n",
    "            err = (y - output)\n",
    "            \n",
    "            self.w[1:] += self.eta[0] * X.T.dot(err)\n",
    "            self.w[0] += self.eta[0] * err.sum()\n",
    "            \n",
    "            cost = (-y.dot(np.log(output)) - ((1 - y).dot(np.log(1 - output))))\n",
    "            self.cost.append(cost)\n",
    "        return self\n",
    "        \n",
    "    def activation(self, X):\n",
    "        z = np.dot(X, self.w[1:]) + self.w[0]\n",
    "        return 1. / (1. + np.exp(-np.clip(z, -250, 250)))\n",
    "    \n",
    "    def predict(self, X):\n",
    "        return np.where(self.activation(X) > 0.5, 1, 0)"
   ]
  },
  {
   "cell_type": "code",
   "execution_count": 2,
   "metadata": {},
   "outputs": [],
   "source": [
    "from sklearn.datasets import make_blobs\n",
    "X, y = make_blobs(n_samples = 100, centers = 2, n_features = 2, random_state = 0)"
   ]
  },
  {
   "cell_type": "code",
   "execution_count": 3,
   "metadata": {},
   "outputs": [
    {
     "data": {
      "image/png": "[encoded data removed]",
      "text/plain": [
       "<Figure size 1080x720 with 1 Axes>"
      ]
     },
     "metadata": {},
     "output_type": "display_data"
    }
   ],
   "source": [
    "import matplotlib.pyplot as plt\n",
    "import seaborn as sns\n",
    "sns.set()\n",
    "\n",
    "fig, ax = plt.subplots(figsize = (15, 10))\n",
    "sns.scatterplot(x = X[:, 0], y = X[:, 1], hue = y, ax = ax)\n",
    "plt.show()"
   ]
  },
  {
   "cell_type": "code",
   "execution_count": 4,
   "metadata": {},
   "outputs": [
    {
     "name": "stdout",
     "output_type": "stream",
     "text": [
      "Train set: \n",
      "\n",
      "              precision    recall  f1-score   support\n",
      "\n",
      "           0       0.93      0.88      0.90        42\n",
      "           1       0.88      0.92      0.90        38\n",
      "\n",
      "    accuracy                           0.90        80\n",
      "   macro avg       0.90      0.90      0.90        80\n",
      "weighted avg       0.90      0.90      0.90        80\n",
      "\n",
      "Test set: \n",
      "\n",
      "              precision    recall  f1-score   support\n",
      "\n",
      "           0       1.00      0.83      0.91        12\n",
      "           1       0.80      1.00      0.89         8\n",
      "\n",
      "    accuracy                           0.90        20\n",
      "   macro avg       0.90      0.92      0.90        20\n",
      "weighted avg       0.92      0.90      0.90        20\n",
      "\n"
     ]
    }
   ],
   "source": [
    "from sklearn.model_selection import train_test_split\n",
    "from sklearn.metrics import classification_report\n",
    "\n",
    "X_train, X_test, y_train, y_test = train_test_split(X, y, test_size = 0.2, \n",
    "                                                    stratify = y)\n",
    "lr = LogisticRegression(eta = 0.01, epochs = 50)\n",
    "lr.fit(X_train, y_train)\n",
    "\n",
    "print(\"Train set: \\n\")\n",
    "print(classification_report(lr.predict(X_train), y_train))\n",
    "\n",
    "print(\"Test set: \\n\")\n",
    "print(classification_report(lr.predict(X_test), y_test))"
   ]
  }
 ],
 "metadata": {
  "kernelspec": {
   "display_name": "Python 3",
   "language": "python",
   "name": "python3"
  },
  "language_info": {
   "codemirror_mode": {
    "name": "ipython",
    "version": 3
   },
   "file_extension": ".py",
   "mimetype": "text/x-python",
   "name": "python",
   "nbconvert_exporter": "python",
   "pygments_lexer": "ipython3",
   "version": "3.6.12"
  }
 },
 "nbformat": 4,
 "nbformat_minor": 4
}
